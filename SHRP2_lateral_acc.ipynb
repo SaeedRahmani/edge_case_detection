{
 "cells": [
  {
   "cell_type": "markdown",
   "metadata": {},
   "source": [
    "#### Description of the code \n",
    "This code identifies the critical event in SHRP2, which is related to the limits of lateral acceleration. \n",
    "\n",
    "The description of the event is as follows:\n",
    "the $\\textbf{acceleration}$ is greater than $0.75g$ for two consecutive time steps. Multiple trigers in a 20 seconds interval is considered one event."
   ]
  },
  {
   "cell_type": "code",
   "execution_count": null,
   "metadata": {},
   "outputs": [],
   "source": [
    "# import datetime\n",
    "def identify_critical_events(data):\n",
    "    critical_acceleration = 7.5 # 7.5 m/s²\n",
    "    critical_duration = 2  # number of time steps for 0.2 seconds at 10 Hz\n",
    "    join_window = 10  # number of time steps for 1 seconds at 10 Hz\n",
    "    frequency = 10  # 10 Hz\n",
    "\n",
    "    critical_events = []\n",
    "    event_start = None\n",
    "    event_end = None\n",
    "    event_duration = 0\n",
    "\n",
    "    for i in range(len(data)):\n",
    "        # Check if lateral acceleration exceeds the critical acceleration\n",
    "        if abs(data[i]['lateral_acceleration']) >= critical_acceleration:\n",
    "            event_duration = event_duration + 1\n",
    "            if event_duration >= critical_duration:\n",
    "                event_start = data[i - event_duration + 1]['time']\n",
    "                event_end = data[i]['time']\n",
    "                print('start of the event', event_start)\n",
    "        else:\n",
    "            if event_start is not None:\n",
    "                if critical_events != []:\n",
    "                    if event_start - critical_events[-1][1]  <= join_window/10:\n",
    "                        print('merge')\n",
    "                        critical_events[-1] = (critical_events[-1][0], event_end)\n",
    "                        event_start = None\n",
    "                        event_end = None\n",
    "                        event_duration = 0\n",
    "                    else:\n",
    "                        print('new event')\n",
    "                        critical_events.append((event_start, event_end))\n",
    "                        event_start = None\n",
    "                        event_end   = None\n",
    "                        event_duration = 0\n",
    "                else:\n",
    "                    print('new event')\n",
    "                    critical_events.append((event_start, event_end))\n",
    "                    event_start = None\n",
    "                    event_end   = None\n",
    "                    event_duration  = 0\n",
    "\n",
    "    if event_start is not None: # if the last event is not closed\n",
    "        critical_events.append((event_start, len(data)/frequency ))\n",
    "\n",
    "    return critical_events, event_start, event_end\n",
    "\n",
    "# Example data\n",
    "start_time = 0.0\n",
    "time_interval = 0.10\n",
    "time_stamp = 0\n",
    "\n",
    "example_data = []\n",
    "time = [0.1, 0.2, 0.3, 0.4, 0.5, 0.6, 0.7, \n",
    "        0.8, 0.9, 1.0, 1.1, 1.2, 1.3, \n",
    "        1.4, 1.5, 1.6, 1.7, 1.8, 1.9, \n",
    "        2.0, 2.1, 2.2, 2.3, 2.4, 2.5, \n",
    "        2.6, 2.7, 2.8, 2.9, 3.0]\n",
    "lateral_accelerations = [0.5, 7.7, 8.0, 8.1, 0.6, 0.5, 7.5, 7.6, 0.4, 0.3, \n",
    "                         0.2, 0.8, 0.2, 0.3, 0.1, 0.4, 0.3, 0.2, 0.3, 0.4, \n",
    "                         0.5, 0.7, 0.6, 0.5, 0.4, 0.3, 9.2, 9.1, 9.0, 0.3]\n",
    "\n",
    "example_data = [{'time': time[i], 'lateral_acceleration': lateral_accelerations[i]} for i in range(len(time))]\n",
    "\n",
    "### Identifying critical events\n",
    "events, start, end = identify_critical_events(example_data)\n",
    "print(\"Critical events (start_index, end_index):\", events)\n",
    "\n",
    "# Optional: Convert indices to time labels\n",
    "# event_times = [(example_data[start]['time'], example_data[end]['time']) for start, end in events]\n",
    "# print(\"Critical event times:\", event_times)\n"
   ]
  },
  {
   "cell_type": "markdown",
   "metadata": {},
   "source": [
    "#### Test on inD dataset"
   ]
  },
  {
   "cell_type": "markdown",
   "metadata": {},
   "source": [
    "import pandas as pd \n"
   ]
  },
  {
   "cell_type": "code",
   "execution_count": 1,
   "metadata": {},
   "outputs": [],
   "source": [
    "import pandas as pd"
   ]
  },
  {
   "cell_type": "code",
   "execution_count": 2,
   "metadata": {},
   "outputs": [],
   "source": [
    "# Function for inD dataset\n",
    "def identify_critical_events(data, critical_acc = 0.75):\n",
    "    critical_acceleration = critical_acc # 7.5 m/s²\n",
    "    critical_duration = 2  # number of time steps for 0.2 seconds at 10 Hz\n",
    "    join_window = 10  # number of time steps for 1 seconds at 10 Hz\n",
    "    frequency = 10  # 10 Hz\n",
    "\n",
    "    critical_events = []\n",
    "    event_start = None\n",
    "    event_end = None\n",
    "    event_duration = 0\n",
    "\n",
    "    for i in range(len(data)):\n",
    "        # Check if lateral acceleration exceeds the critical acceleration\n",
    "        if abs(data.iloc[i]['latAcceleration']) >= critical_acceleration:\n",
    "            event_duration = event_duration + 1\n",
    "            if event_duration >= critical_duration:\n",
    "                event_start = data.iloc[i - event_duration + 1]['trackLifetime']\n",
    "                event_end = data.iloc[i]['trackLifetime']\n",
    "                # print('start of the event', event_start) # For checking if events are detected correctly\n",
    "        else:\n",
    "            if event_start is not None:\n",
    "                if critical_events != []:\n",
    "                    if event_start - critical_events[-1][1]  <= join_window/10:\n",
    "                        # print('merge')\n",
    "                        critical_events[-1] = (critical_events[-1][0], event_end)\n",
    "                        event_start = None\n",
    "                        event_end = None\n",
    "                        event_duration = 0\n",
    "                    else:\n",
    "                        # print('new event')\n",
    "                        critical_events.append((event_start, event_end))\n",
    "                        event_start = None\n",
    "                        event_end   = None\n",
    "                        event_duration = 0\n",
    "                else:\n",
    "                    # print('new event')\n",
    "                    critical_events.append((event_start, event_end))\n",
    "                    event_start = None\n",
    "                    event_end   = None\n",
    "                    event_duration  = 0\n",
    "\n",
    "    if event_start is not None: # if the last event is not closed\n",
    "        critical_events.append((event_start, len(data)/frequency ))\n",
    "\n",
    "    return critical_events, event_start, event_end\n",
    "\n"
   ]
  },
  {
   "cell_type": "code",
   "execution_count": 3,
   "metadata": {},
   "outputs": [],
   "source": [
    "path = 'inD-dataset-v1.0/data/22_tracks.csv'\n",
    "data = pd.read_csv(path)"
   ]
  },
  {
   "cell_type": "markdown",
   "metadata": {},
   "source": [
    "The original code iterates on one vehicle. Here, we need to also iterate on different vehicles (track IDs)"
   ]
  },
  {
   "cell_type": "code",
   "execution_count": 4,
   "metadata": {},
   "outputs": [],
   "source": [
    "acc_data = data[['trackId', 'trackLifetime', 'latAcceleration']]"
   ]
  },
  {
   "cell_type": "code",
   "execution_count": 5,
   "metadata": {},
   "outputs": [
    {
     "name": "stdout",
     "output_type": "stream",
     "text": [
      "trackId 0\n",
      "Critical events (start_index, end_index): [(0.0, 78.0), (136.0, 175.0)]\n",
      "trackId 1\n",
      "Critical events (start_index, end_index): [(0.0, 80.0), (108.0, 129.0), (153.0, 264.0), (296.0, 320.0), (341.0, 356.0), (377.0, 390.0), (470.0, 488.0), (518.0, 538.0), (581.0, 60.0)]\n",
      "trackId 2\n",
      "Critical events (start_index, end_index): [(0.0, 141.0), (187.0, 230.0)]\n",
      "trackId 3\n",
      "Critical events (start_index, end_index): [(0.0, 29.0), (89.0, 117.0), (166.0, 202.0), (237.0, 270.0), (280.0, 297.0), (305.0, 324.0), (389.0, 406.0), (420.0, 446.0), (501.0, 543.0), (558.0, 635.0), (650.0, 666.0), (691.0, 713.0), (723.0, 744.0), (754.0, 773.0), (787.0, 81.1)]\n",
      "trackId 4\n",
      "Critical events (start_index, end_index): [(19.0, 80.0)]\n",
      "trackId 5\n",
      "Critical events (start_index, end_index): [(0.0, 23.0), (42.0, 65.0), (74.0, 106.0), (585.0, 605.0), (614.0, 636.0), (649.0, 677.0), (697.0, 719.0), (741.0, 757.0), (841.0, 908.0), (934.0, 950.0), (972.0, 991.0), (1057.0, 1104.0), (1127.0, 1159.0), (1182.0, 1186.0), (1313.0, 1363.0), (1385.0, 1403.0), (1407.0, 1434.0), (1446.0, 1459.0)]\n",
      "trackId 6\n",
      "Critical events (start_index, end_index): [(0.0, 32.0), (56.0, 73.0)]\n",
      "trackId 7\n",
      "Critical events (start_index, end_index): [(0.0, 49.0), (71.0, 104.0), (137.0, 207.0), (225.0, 267.0)]\n",
      "trackId 8\n",
      "Critical events (start_index, end_index): [(91.0, 116.0), (189.0, 227.0), (237.0, 250.0), (328.0, 34.5)]\n",
      "trackId 9\n",
      "Critical events (start_index, end_index): [(63.0, 103.0), (119.0, 148.0), (173.0, 187.0), (220.0, 242.0), (259.0, 277.0), (327.0, 338.0), (446.0, 462.0), (493.0, 498.0), (528.0, 550.0), (560.0, 592.0), (610.0, 616.0)]\n",
      "trackId 10\n",
      "Critical events (start_index, end_index): [(0.0, 17.0), (96.0, 112.0), (140.0, 174.0), (190.0, 225.0), (484.0, 494.0), (507.0, 52.7)]\n"
     ]
    }
   ],
   "source": [
    "data_grouped = acc_data.groupby('trackId')\n",
    "for id, group in data_grouped:\n",
    "    events, start, end = identify_critical_events(group, critical_acc = 0.1)\n",
    "    print('trackId', id)\n",
    "    print(\"Critical events (start_index, end_index):\", events)\n",
    "    if id == 10: break"
   ]
  }
 ],
 "metadata": {
  "kernelspec": {
   "display_name": "Python 3",
   "language": "python",
   "name": "python3"
  },
  "language_info": {
   "codemirror_mode": {
    "name": "ipython",
    "version": 3
   },
   "file_extension": ".py",
   "mimetype": "text/x-python",
   "name": "python",
   "nbconvert_exporter": "python",
   "pygments_lexer": "ipython3",
   "version": "3.10.13"
  }
 },
 "nbformat": 4,
 "nbformat_minor": 2
}
